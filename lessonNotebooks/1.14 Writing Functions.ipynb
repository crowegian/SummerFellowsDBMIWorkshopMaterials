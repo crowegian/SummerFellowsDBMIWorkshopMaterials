{
 "cells": [
  {
   "cell_type": "markdown",
   "metadata": {},
   "source": [
    "# Overview\n",
    "We've discussed one way repeat actions without writing repetitive code using a for loop, but there are other ways to package code so we don't have to copy and paste commands. We can create our own functions, which operate a lot like the functions from libraries except we define them.\n",
    "\n",
    "Functions serve another purpose beyond making code more compact. An important part of writing code is to write logical and clean code. By packaging sets of commands within a function we can make our code look cleaner, and more logical by breaking down complex objectives into steps of functions.\n",
    "\n",
    "## Questions\n",
    "- How can I create my own functions?\n",
    "\n",
    "## Objectives\n",
    "- Explain and identify the difference between function definition and function call.\n",
    "\n",
    "- Write a function that takes a small, fixed number of arguments and produces a single result.\n",
    "# Code"
   ]
  },
  {
   "cell_type": "markdown",
   "metadata": {},
   "source": [
    "## Define a function using def with a name, parameters, and a block of code."
   ]
  },
  {
   "cell_type": "markdown",
   "metadata": {},
   "source": [
    "## Arguments in call are matched to parameters in definition.\n"
   ]
  },
  {
   "cell_type": "markdown",
   "metadata": {},
   "source": [
    "## Functions may return a result to their caller using return.\n"
   ]
  },
  {
   "cell_type": "code",
   "execution_count": null,
   "metadata": {},
   "outputs": [],
   "source": []
  }
 ],
 "metadata": {
  "kernelspec": {
   "display_name": "Python 3",
   "language": "python",
   "name": "python3"
  },
  "language_info": {
   "codemirror_mode": {
    "name": "ipython",
    "version": 3
   },
   "file_extension": ".py",
   "mimetype": "text/x-python",
   "name": "python",
   "nbconvert_exporter": "python",
   "pygments_lexer": "ipython3",
   "version": "3.7.3"
  }
 },
 "nbformat": 4,
 "nbformat_minor": 2
}
