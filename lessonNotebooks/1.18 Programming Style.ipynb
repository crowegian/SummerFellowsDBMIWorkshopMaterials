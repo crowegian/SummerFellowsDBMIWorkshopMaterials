{
 "cells": [
  {
   "cell_type": "markdown",
   "metadata": {},
   "source": [
    "# Overview\n",
    "Coding is more than just getting things done. Code should be reusable by others and yourself. By following good standards we can make sure that our code is understandable by others, and ourselves if we come back to our code 6 months from now. \n",
    "## Questions\n",
    "- How can I make my programs more readable?\n",
    "\n",
    "- How do most programmers format their code?\n",
    "\n",
    "- How can programs check their own operation?\n",
    "\n",
    "## Objectives\n",
    "- Provide sound justifications for basic rules of coding style.\n",
    "\n",
    "- Refactor one-page programs to make them more readable and justify the changes.\n",
    "\n",
    "- Use Python community coding standards (PEP-8).\n",
    "# Code"
   ]
  },
  {
   "cell_type": "markdown",
   "metadata": {},
   "source": [
    "## Use assertions to check for internal errors.\n"
   ]
  },
  {
   "cell_type": "markdown",
   "metadata": {},
   "source": [
    "## Use docstrings to provide online help.\n"
   ]
  },
  {
   "cell_type": "code",
   "execution_count": null,
   "metadata": {},
   "outputs": [],
   "source": []
  }
 ],
 "metadata": {
  "kernelspec": {
   "display_name": "Python 3",
   "language": "python",
   "name": "python3"
  },
  "language_info": {
   "codemirror_mode": {
    "name": "ipython",
    "version": 3
   },
   "file_extension": ".py",
   "mimetype": "text/x-python",
   "name": "python",
   "nbconvert_exporter": "python",
   "pygments_lexer": "ipython3",
   "version": "3.7.3"
  }
 },
 "nbformat": 4,
 "nbformat_minor": 2
}
