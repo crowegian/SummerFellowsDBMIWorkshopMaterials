{
 "cells": [
  {
   "cell_type": "markdown",
   "metadata": {},
   "source": [
    "# Overview\n",
    "Going with the theme of the last lesson where computers should make our lives easier, how can we make analyzing datasets easier, when we want to repeat a set of actions of a set of dataset files? One way to accomplish this is by using lists, and for loops.\n",
    "\n",
    "## Questions\n",
    "- How can I process many data sets with a single command?\n",
    "\n",
    "## Objectives\n",
    "- Be able to read and write globbing expressions that match sets of files.\n",
    "\n",
    "- Use glob to create lists of files.\n",
    "\n",
    "- Write for loops to perform operations on files given their names in a list.\n",
    "\n",
    "# Code"
   ]
  },
  {
   "cell_type": "markdown",
   "metadata": {},
   "source": [
    "## Use a for loop to process files given a list of their names.\n"
   ]
  },
  {
   "cell_type": "markdown",
   "metadata": {},
   "source": [
    "## Use glob.glob to find sets of files whose names match a pattern.\n"
   ]
  },
  {
   "cell_type": "markdown",
   "metadata": {},
   "source": [
    "## Use glob and for to process batches of files.\n"
   ]
  },
  {
   "cell_type": "code",
   "execution_count": null,
   "metadata": {},
   "outputs": [],
   "source": []
  }
 ],
 "metadata": {
  "kernelspec": {
   "display_name": "Python 3",
   "language": "python",
   "name": "python3"
  },
  "language_info": {
   "codemirror_mode": {
    "name": "ipython",
    "version": 3
   },
   "file_extension": ".py",
   "mimetype": "text/x-python",
   "name": "python",
   "nbconvert_exporter": "python",
   "pygments_lexer": "ipython3",
   "version": "3.7.3"
  }
 },
 "nbformat": 4,
 "nbformat_minor": 2
}
