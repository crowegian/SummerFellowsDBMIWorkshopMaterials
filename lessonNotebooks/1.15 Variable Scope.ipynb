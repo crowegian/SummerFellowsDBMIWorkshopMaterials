{
 "cells": [
  {
   "cell_type": "markdown",
   "metadata": {},
   "source": [
    "# Overview\n",
    "I hope you haven't grown too attached to any of the variables you've created because variables don't last forever. Or rather, there are certain times when a variable exists on your machine, and other times when it does not. This is actually good. In this lesson we'll learn where and when different variables come into existence.\n",
    "## Questions\n",
    "How do function calls actually work?\n",
    "\n",
    "How can I determine where errors occurred?\n",
    "\n",
    "## Objectives\n",
    "Identify local and global variables.\n",
    "\n",
    "Identify parameters as local variables.\n",
    "\n",
    "Read a traceback and determine the file, function, and line number on which the error occurred, the type of error, and the error message.\n",
    "# Code"
   ]
  },
  {
   "cell_type": "markdown",
   "metadata": {},
   "source": [
    "## The scope of a variable is the part of a program that can ‘see’ that variable."
   ]
  },
  {
   "cell_type": "code",
   "execution_count": null,
   "metadata": {},
   "outputs": [],
   "source": []
  }
 ],
 "metadata": {
  "kernelspec": {
   "display_name": "Python 3",
   "language": "python",
   "name": "python3"
  },
  "language_info": {
   "codemirror_mode": {
    "name": "ipython",
    "version": 3
   },
   "file_extension": ".py",
   "mimetype": "text/x-python",
   "name": "python",
   "nbconvert_exporter": "python",
   "pygments_lexer": "ipython3",
   "version": "3.7.3"
  }
 },
 "nbformat": 4,
 "nbformat_minor": 2
}
